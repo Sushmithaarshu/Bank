{
 "cells": [
  {
   "cell_type": "code",
   "execution_count": 24,
   "id": "563adc6a",
   "metadata": {},
   "outputs": [],
   "source": [
    "import pandas as pd\n",
    "import numpy as np\n",
    "import seaborn as sns\n",
    "import matplotlib.pyplot as plt\n",
    "from scipy import stats\n",
    "import statsmodels.api as  sm\n",
    "from sklearn.model_selection import train_test_split\n",
    "from sklearn.linear_model import LinearRegression as LS\n",
    "from sklearn.metrics import mean_squared_error as mse\n",
    "from sklearn.linear_model import LinearRegression\n",
    "from sklearn.ensemble import GradientBoostingRegressor\n",
    "from sklearn.ensemble import RandomForestRegressor\n",
    "from sklearn.tree import DecisionTreeRegressor\n",
    "from statsmodels.tsa.seasonal import seasonal_decompose\n",
    "from statsmodels.tsa.holtwinters import ExponentialSmoothing"
   ]
  },
  {
   "cell_type": "code",
   "execution_count": 2,
   "id": "c5331c25",
   "metadata": {},
   "outputs": [],
   "source": [
    "market=pd.read_csv(\"C:/Users/LENOVO/Downloads/Paper1/MonthWiseMarketArrivals_Clean.csv\")"
   ]
  },
  {
   "cell_type": "code",
   "execution_count": 3,
   "id": "9f9cd295",
   "metadata": {},
   "outputs": [
    {
     "data": {
      "text/html": [
       "<div>\n",
       "<style scoped>\n",
       "    .dataframe tbody tr th:only-of-type {\n",
       "        vertical-align: middle;\n",
       "    }\n",
       "\n",
       "    .dataframe tbody tr th {\n",
       "        vertical-align: top;\n",
       "    }\n",
       "\n",
       "    .dataframe thead th {\n",
       "        text-align: right;\n",
       "    }\n",
       "</style>\n",
       "<table border=\"1\" class=\"dataframe\">\n",
       "  <thead>\n",
       "    <tr style=\"text-align: right;\">\n",
       "      <th></th>\n",
       "      <th>market</th>\n",
       "      <th>month</th>\n",
       "      <th>year</th>\n",
       "      <th>quantity</th>\n",
       "      <th>priceMin</th>\n",
       "      <th>priceMax</th>\n",
       "      <th>priceMod</th>\n",
       "      <th>state</th>\n",
       "      <th>city</th>\n",
       "      <th>date</th>\n",
       "    </tr>\n",
       "  </thead>\n",
       "  <tbody>\n",
       "    <tr>\n",
       "      <th>0</th>\n",
       "      <td>ABOHAR(PB)</td>\n",
       "      <td>January</td>\n",
       "      <td>2005</td>\n",
       "      <td>2350</td>\n",
       "      <td>404</td>\n",
       "      <td>493</td>\n",
       "      <td>446</td>\n",
       "      <td>PB</td>\n",
       "      <td>ABOHAR</td>\n",
       "      <td>January-2005</td>\n",
       "    </tr>\n",
       "    <tr>\n",
       "      <th>1</th>\n",
       "      <td>ABOHAR(PB)</td>\n",
       "      <td>January</td>\n",
       "      <td>2006</td>\n",
       "      <td>900</td>\n",
       "      <td>487</td>\n",
       "      <td>638</td>\n",
       "      <td>563</td>\n",
       "      <td>PB</td>\n",
       "      <td>ABOHAR</td>\n",
       "      <td>January-2006</td>\n",
       "    </tr>\n",
       "    <tr>\n",
       "      <th>2</th>\n",
       "      <td>ABOHAR(PB)</td>\n",
       "      <td>January</td>\n",
       "      <td>2010</td>\n",
       "      <td>790</td>\n",
       "      <td>1283</td>\n",
       "      <td>1592</td>\n",
       "      <td>1460</td>\n",
       "      <td>PB</td>\n",
       "      <td>ABOHAR</td>\n",
       "      <td>January-2010</td>\n",
       "    </tr>\n",
       "    <tr>\n",
       "      <th>3</th>\n",
       "      <td>ABOHAR(PB)</td>\n",
       "      <td>January</td>\n",
       "      <td>2011</td>\n",
       "      <td>245</td>\n",
       "      <td>3067</td>\n",
       "      <td>3750</td>\n",
       "      <td>3433</td>\n",
       "      <td>PB</td>\n",
       "      <td>ABOHAR</td>\n",
       "      <td>January-2011</td>\n",
       "    </tr>\n",
       "    <tr>\n",
       "      <th>4</th>\n",
       "      <td>ABOHAR(PB)</td>\n",
       "      <td>January</td>\n",
       "      <td>2012</td>\n",
       "      <td>1035</td>\n",
       "      <td>523</td>\n",
       "      <td>686</td>\n",
       "      <td>605</td>\n",
       "      <td>PB</td>\n",
       "      <td>ABOHAR</td>\n",
       "      <td>January-2012</td>\n",
       "    </tr>\n",
       "  </tbody>\n",
       "</table>\n",
       "</div>"
      ],
      "text/plain": [
       "       market    month  year  quantity  priceMin  priceMax  priceMod state  \\\n",
       "0  ABOHAR(PB)  January  2005      2350       404       493       446    PB   \n",
       "1  ABOHAR(PB)  January  2006       900       487       638       563    PB   \n",
       "2  ABOHAR(PB)  January  2010       790      1283      1592      1460    PB   \n",
       "3  ABOHAR(PB)  January  2011       245      3067      3750      3433    PB   \n",
       "4  ABOHAR(PB)  January  2012      1035       523       686       605    PB   \n",
       "\n",
       "     city          date  \n",
       "0  ABOHAR  January-2005  \n",
       "1  ABOHAR  January-2006  \n",
       "2  ABOHAR  January-2010  \n",
       "3  ABOHAR  January-2011  \n",
       "4  ABOHAR  January-2012  "
      ]
     },
     "execution_count": 3,
     "metadata": {},
     "output_type": "execute_result"
    }
   ],
   "source": [
    "market.head()"
   ]
  },
  {
   "cell_type": "code",
   "execution_count": 12,
   "id": "9234a1f9",
   "metadata": {},
   "outputs": [
    {
     "data": {
      "text/html": [
       "<div>\n",
       "<style scoped>\n",
       "    .dataframe tbody tr th:only-of-type {\n",
       "        vertical-align: middle;\n",
       "    }\n",
       "\n",
       "    .dataframe tbody tr th {\n",
       "        vertical-align: top;\n",
       "    }\n",
       "\n",
       "    .dataframe thead th {\n",
       "        text-align: right;\n",
       "    }\n",
       "</style>\n",
       "<table border=\"1\" class=\"dataframe\">\n",
       "  <thead>\n",
       "    <tr style=\"text-align: right;\">\n",
       "      <th></th>\n",
       "      <th>year</th>\n",
       "      <th>quantity</th>\n",
       "      <th>priceMin</th>\n",
       "      <th>priceMax</th>\n",
       "      <th>priceMod</th>\n",
       "    </tr>\n",
       "  </thead>\n",
       "  <tbody>\n",
       "    <tr>\n",
       "      <th>count</th>\n",
       "      <td>10227.000000</td>\n",
       "      <td>1.022700e+04</td>\n",
       "      <td>10227.000000</td>\n",
       "      <td>10227.000000</td>\n",
       "      <td>10227.000000</td>\n",
       "    </tr>\n",
       "    <tr>\n",
       "      <th>mean</th>\n",
       "      <td>2009.022294</td>\n",
       "      <td>7.660488e+04</td>\n",
       "      <td>646.944363</td>\n",
       "      <td>1212.760731</td>\n",
       "      <td>984.284345</td>\n",
       "    </tr>\n",
       "    <tr>\n",
       "      <th>std</th>\n",
       "      <td>4.372841</td>\n",
       "      <td>1.244087e+05</td>\n",
       "      <td>673.121850</td>\n",
       "      <td>979.658874</td>\n",
       "      <td>818.471498</td>\n",
       "    </tr>\n",
       "    <tr>\n",
       "      <th>min</th>\n",
       "      <td>1996.000000</td>\n",
       "      <td>2.000000e+01</td>\n",
       "      <td>16.000000</td>\n",
       "      <td>145.000000</td>\n",
       "      <td>80.000000</td>\n",
       "    </tr>\n",
       "    <tr>\n",
       "      <th>25%</th>\n",
       "      <td>2006.000000</td>\n",
       "      <td>8.898000e+03</td>\n",
       "      <td>209.000000</td>\n",
       "      <td>557.000000</td>\n",
       "      <td>448.000000</td>\n",
       "    </tr>\n",
       "    <tr>\n",
       "      <th>50%</th>\n",
       "      <td>2009.000000</td>\n",
       "      <td>2.746000e+04</td>\n",
       "      <td>440.000000</td>\n",
       "      <td>923.000000</td>\n",
       "      <td>747.000000</td>\n",
       "    </tr>\n",
       "    <tr>\n",
       "      <th>75%</th>\n",
       "      <td>2013.000000</td>\n",
       "      <td>8.835650e+04</td>\n",
       "      <td>828.000000</td>\n",
       "      <td>1527.000000</td>\n",
       "      <td>1248.000000</td>\n",
       "    </tr>\n",
       "    <tr>\n",
       "      <th>max</th>\n",
       "      <td>2016.000000</td>\n",
       "      <td>1.639032e+06</td>\n",
       "      <td>6000.000000</td>\n",
       "      <td>8192.000000</td>\n",
       "      <td>6400.000000</td>\n",
       "    </tr>\n",
       "  </tbody>\n",
       "</table>\n",
       "</div>"
      ],
      "text/plain": [
       "               year      quantity      priceMin      priceMax      priceMod\n",
       "count  10227.000000  1.022700e+04  10227.000000  10227.000000  10227.000000\n",
       "mean    2009.022294  7.660488e+04    646.944363   1212.760731    984.284345\n",
       "std        4.372841  1.244087e+05    673.121850    979.658874    818.471498\n",
       "min     1996.000000  2.000000e+01     16.000000    145.000000     80.000000\n",
       "25%     2006.000000  8.898000e+03    209.000000    557.000000    448.000000\n",
       "50%     2009.000000  2.746000e+04    440.000000    923.000000    747.000000\n",
       "75%     2013.000000  8.835650e+04    828.000000   1527.000000   1248.000000\n",
       "max     2016.000000  1.639032e+06   6000.000000   8192.000000   6400.000000"
      ]
     },
     "execution_count": 12,
     "metadata": {},
     "output_type": "execute_result"
    }
   ],
   "source": [
    "market.describe()"
   ]
  },
  {
   "cell_type": "code",
   "execution_count": 8,
   "id": "60f40c1a",
   "metadata": {},
   "outputs": [
    {
     "data": {
      "text/plain": [
       "(10227, 10)"
      ]
     },
     "execution_count": 8,
     "metadata": {},
     "output_type": "execute_result"
    }
   ],
   "source": [
    "market.shape"
   ]
  },
  {
   "cell_type": "code",
   "execution_count": 9,
   "id": "4f119cd2",
   "metadata": {},
   "outputs": [
    {
     "data": {
      "text/plain": [
       "market      0\n",
       "month       0\n",
       "year        0\n",
       "quantity    0\n",
       "priceMin    0\n",
       "priceMax    0\n",
       "priceMod    0\n",
       "state       0\n",
       "city        0\n",
       "date        0\n",
       "dtype: int64"
      ]
     },
     "execution_count": 9,
     "metadata": {},
     "output_type": "execute_result"
    }
   ],
   "source": [
    "market.isnull().sum()"
   ]
  },
  {
   "cell_type": "code",
   "execution_count": 10,
   "id": "69b965e3",
   "metadata": {},
   "outputs": [
    {
     "data": {
      "text/plain": [
       "market      object\n",
       "month       object\n",
       "year         int64\n",
       "quantity     int64\n",
       "priceMin     int64\n",
       "priceMax     int64\n",
       "priceMod     int64\n",
       "state       object\n",
       "city        object\n",
       "date        object\n",
       "dtype: object"
      ]
     },
     "execution_count": 10,
     "metadata": {},
     "output_type": "execute_result"
    }
   ],
   "source": [
    "market.dtypes"
   ]
  },
  {
   "cell_type": "code",
   "execution_count": 11,
   "id": "1bbda27a",
   "metadata": {},
   "outputs": [],
   "source": [
    "market.iloc[:,2:7] = market.iloc[:,2:7].astype(int)\n"
   ]
  },
  {
   "cell_type": "code",
   "execution_count": 13,
   "id": "e37677e6",
   "metadata": {},
   "outputs": [
    {
     "data": {
      "text/html": [
       "<div>\n",
       "<style scoped>\n",
       "    .dataframe tbody tr th:only-of-type {\n",
       "        vertical-align: middle;\n",
       "    }\n",
       "\n",
       "    .dataframe tbody tr th {\n",
       "        vertical-align: top;\n",
       "    }\n",
       "\n",
       "    .dataframe thead th {\n",
       "        text-align: right;\n",
       "    }\n",
       "</style>\n",
       "<table border=\"1\" class=\"dataframe\">\n",
       "  <thead>\n",
       "    <tr style=\"text-align: right;\">\n",
       "      <th></th>\n",
       "      <th>market</th>\n",
       "      <th>month</th>\n",
       "      <th>year</th>\n",
       "      <th>quantity</th>\n",
       "      <th>priceMin</th>\n",
       "      <th>priceMax</th>\n",
       "      <th>priceMod</th>\n",
       "      <th>state</th>\n",
       "      <th>city</th>\n",
       "      <th>date</th>\n",
       "    </tr>\n",
       "  </thead>\n",
       "  <tbody>\n",
       "    <tr>\n",
       "      <th>0</th>\n",
       "      <td>ABOHAR(PB)</td>\n",
       "      <td>January</td>\n",
       "      <td>2005</td>\n",
       "      <td>2350</td>\n",
       "      <td>404</td>\n",
       "      <td>493</td>\n",
       "      <td>446</td>\n",
       "      <td>PB</td>\n",
       "      <td>ABOHAR</td>\n",
       "      <td>January-2005</td>\n",
       "    </tr>\n",
       "    <tr>\n",
       "      <th>1</th>\n",
       "      <td>ABOHAR(PB)</td>\n",
       "      <td>January</td>\n",
       "      <td>2006</td>\n",
       "      <td>900</td>\n",
       "      <td>487</td>\n",
       "      <td>638</td>\n",
       "      <td>563</td>\n",
       "      <td>PB</td>\n",
       "      <td>ABOHAR</td>\n",
       "      <td>January-2006</td>\n",
       "    </tr>\n",
       "    <tr>\n",
       "      <th>2</th>\n",
       "      <td>ABOHAR(PB)</td>\n",
       "      <td>January</td>\n",
       "      <td>2010</td>\n",
       "      <td>790</td>\n",
       "      <td>1283</td>\n",
       "      <td>1592</td>\n",
       "      <td>1460</td>\n",
       "      <td>PB</td>\n",
       "      <td>ABOHAR</td>\n",
       "      <td>January-2010</td>\n",
       "    </tr>\n",
       "    <tr>\n",
       "      <th>3</th>\n",
       "      <td>ABOHAR(PB)</td>\n",
       "      <td>January</td>\n",
       "      <td>2011</td>\n",
       "      <td>245</td>\n",
       "      <td>3067</td>\n",
       "      <td>3750</td>\n",
       "      <td>3433</td>\n",
       "      <td>PB</td>\n",
       "      <td>ABOHAR</td>\n",
       "      <td>January-2011</td>\n",
       "    </tr>\n",
       "    <tr>\n",
       "      <th>4</th>\n",
       "      <td>ABOHAR(PB)</td>\n",
       "      <td>January</td>\n",
       "      <td>2012</td>\n",
       "      <td>1035</td>\n",
       "      <td>523</td>\n",
       "      <td>686</td>\n",
       "      <td>605</td>\n",
       "      <td>PB</td>\n",
       "      <td>ABOHAR</td>\n",
       "      <td>January-2012</td>\n",
       "    </tr>\n",
       "  </tbody>\n",
       "</table>\n",
       "</div>"
      ],
      "text/plain": [
       "       market    month  year  quantity  priceMin  priceMax  priceMod state  \\\n",
       "0  ABOHAR(PB)  January  2005      2350       404       493       446    PB   \n",
       "1  ABOHAR(PB)  January  2006       900       487       638       563    PB   \n",
       "2  ABOHAR(PB)  January  2010       790      1283      1592      1460    PB   \n",
       "3  ABOHAR(PB)  January  2011       245      3067      3750      3433    PB   \n",
       "4  ABOHAR(PB)  January  2012      1035       523       686       605    PB   \n",
       "\n",
       "     city          date  \n",
       "0  ABOHAR  January-2005  \n",
       "1  ABOHAR  January-2006  \n",
       "2  ABOHAR  January-2010  \n",
       "3  ABOHAR  January-2011  \n",
       "4  ABOHAR  January-2012  "
      ]
     },
     "execution_count": 13,
     "metadata": {},
     "output_type": "execute_result"
    }
   ],
   "source": [
    "market[\"date\"] = market[\"month\"] + \"-\" + market[\"year\"].map(str)\n",
    "market.head()"
   ]
  },
  {
   "cell_type": "code",
   "execution_count": 14,
   "id": "f769cd6f",
   "metadata": {},
   "outputs": [
    {
     "data": {
      "text/plain": [
       "RangeIndex(start=0, stop=10227, step=1)"
      ]
     },
     "execution_count": 14,
     "metadata": {},
     "output_type": "execute_result"
    }
   ],
   "source": [
    "index = pd.to_datetime(market.date)\n",
    "market.date = pd.DatetimeIndex(market.date)\n",
    "market.index"
   ]
  },
  {
   "cell_type": "code",
   "execution_count": 19,
   "id": "d2797f16",
   "metadata": {},
   "outputs": [
    {
     "data": {
      "text/html": [
       "<div>\n",
       "<style scoped>\n",
       "    .dataframe tbody tr th:only-of-type {\n",
       "        vertical-align: middle;\n",
       "    }\n",
       "\n",
       "    .dataframe tbody tr th {\n",
       "        vertical-align: top;\n",
       "    }\n",
       "\n",
       "    .dataframe thead th {\n",
       "        text-align: right;\n",
       "    }\n",
       "</style>\n",
       "<table border=\"1\" class=\"dataframe\">\n",
       "  <thead>\n",
       "    <tr style=\"text-align: right;\">\n",
       "      <th></th>\n",
       "      <th>market</th>\n",
       "      <th>month</th>\n",
       "      <th>year</th>\n",
       "      <th>quantity</th>\n",
       "      <th>priceMin</th>\n",
       "      <th>priceMax</th>\n",
       "      <th>priceMod</th>\n",
       "      <th>state</th>\n",
       "      <th>city</th>\n",
       "      <th>date</th>\n",
       "    </tr>\n",
       "  </thead>\n",
       "  <tbody>\n",
       "    <tr>\n",
       "      <th>6654</th>\n",
       "      <td>MUMBAI</td>\n",
       "      <td>January</td>\n",
       "      <td>2004</td>\n",
       "      <td>267100</td>\n",
       "      <td>719</td>\n",
       "      <td>971</td>\n",
       "      <td>849</td>\n",
       "      <td>MS</td>\n",
       "      <td>MUMBAI</td>\n",
       "      <td>2004-01-01</td>\n",
       "    </tr>\n",
       "    <tr>\n",
       "      <th>6655</th>\n",
       "      <td>MUMBAI</td>\n",
       "      <td>January</td>\n",
       "      <td>2005</td>\n",
       "      <td>275845</td>\n",
       "      <td>261</td>\n",
       "      <td>513</td>\n",
       "      <td>387</td>\n",
       "      <td>MS</td>\n",
       "      <td>MUMBAI</td>\n",
       "      <td>2005-01-01</td>\n",
       "    </tr>\n",
       "    <tr>\n",
       "      <th>6656</th>\n",
       "      <td>MUMBAI</td>\n",
       "      <td>January</td>\n",
       "      <td>2006</td>\n",
       "      <td>228000</td>\n",
       "      <td>315</td>\n",
       "      <td>488</td>\n",
       "      <td>402</td>\n",
       "      <td>MS</td>\n",
       "      <td>MUMBAI</td>\n",
       "      <td>2006-01-01</td>\n",
       "    </tr>\n",
       "    <tr>\n",
       "      <th>6657</th>\n",
       "      <td>MUMBAI</td>\n",
       "      <td>January</td>\n",
       "      <td>2007</td>\n",
       "      <td>205200</td>\n",
       "      <td>866</td>\n",
       "      <td>1136</td>\n",
       "      <td>997</td>\n",
       "      <td>MS</td>\n",
       "      <td>MUMBAI</td>\n",
       "      <td>2007-01-01</td>\n",
       "    </tr>\n",
       "    <tr>\n",
       "      <th>6658</th>\n",
       "      <td>MUMBAI</td>\n",
       "      <td>January</td>\n",
       "      <td>2008</td>\n",
       "      <td>267550</td>\n",
       "      <td>348</td>\n",
       "      <td>550</td>\n",
       "      <td>448</td>\n",
       "      <td>MS</td>\n",
       "      <td>MUMBAI</td>\n",
       "      <td>2008-01-01</td>\n",
       "    </tr>\n",
       "  </tbody>\n",
       "</table>\n",
       "</div>"
      ],
      "text/plain": [
       "      market    month  year  quantity  priceMin  priceMax  priceMod state  \\\n",
       "6654  MUMBAI  January  2004    267100       719       971       849    MS   \n",
       "6655  MUMBAI  January  2005    275845       261       513       387    MS   \n",
       "6656  MUMBAI  January  2006    228000       315       488       402    MS   \n",
       "6657  MUMBAI  January  2007    205200       866      1136       997    MS   \n",
       "6658  MUMBAI  January  2008    267550       348       550       448    MS   \n",
       "\n",
       "        city       date  \n",
       "6654  MUMBAI 2004-01-01  \n",
       "6655  MUMBAI 2005-01-01  \n",
       "6656  MUMBAI 2006-01-01  \n",
       "6657  MUMBAI 2007-01-01  \n",
       "6658  MUMBAI 2008-01-01  "
      ]
     },
     "execution_count": 19,
     "metadata": {},
     "output_type": "execute_result"
    }
   ],
   "source": [
    "market_bang = market.loc[market.city == \"MUMBAI\"].copy()\n",
    "market_bang.head()\n"
   ]
  },
  {
   "cell_type": "code",
   "execution_count": 20,
   "id": "bca72fac",
   "metadata": {},
   "outputs": [
    {
     "data": {
      "text/html": [
       "<div>\n",
       "<style scoped>\n",
       "    .dataframe tbody tr th:only-of-type {\n",
       "        vertical-align: middle;\n",
       "    }\n",
       "\n",
       "    .dataframe tbody tr th {\n",
       "        vertical-align: top;\n",
       "    }\n",
       "\n",
       "    .dataframe thead th {\n",
       "        text-align: right;\n",
       "    }\n",
       "</style>\n",
       "<table border=\"1\" class=\"dataframe\">\n",
       "  <thead>\n",
       "    <tr style=\"text-align: right;\">\n",
       "      <th></th>\n",
       "      <th>quantity</th>\n",
       "      <th>priceMod</th>\n",
       "      <th>date</th>\n",
       "    </tr>\n",
       "  </thead>\n",
       "  <tbody>\n",
       "    <tr>\n",
       "      <th>6654</th>\n",
       "      <td>267100</td>\n",
       "      <td>849</td>\n",
       "      <td>2004-01-01</td>\n",
       "    </tr>\n",
       "    <tr>\n",
       "      <th>6655</th>\n",
       "      <td>275845</td>\n",
       "      <td>387</td>\n",
       "      <td>2005-01-01</td>\n",
       "    </tr>\n",
       "    <tr>\n",
       "      <th>6656</th>\n",
       "      <td>228000</td>\n",
       "      <td>402</td>\n",
       "      <td>2006-01-01</td>\n",
       "    </tr>\n",
       "    <tr>\n",
       "      <th>6657</th>\n",
       "      <td>205200</td>\n",
       "      <td>997</td>\n",
       "      <td>2007-01-01</td>\n",
       "    </tr>\n",
       "    <tr>\n",
       "      <th>6658</th>\n",
       "      <td>267550</td>\n",
       "      <td>448</td>\n",
       "      <td>2008-01-01</td>\n",
       "    </tr>\n",
       "  </tbody>\n",
       "</table>\n",
       "</div>"
      ],
      "text/plain": [
       "      quantity  priceMod       date\n",
       "6654    267100       849 2004-01-01\n",
       "6655    275845       387 2005-01-01\n",
       "6656    228000       402 2006-01-01\n",
       "6657    205200       997 2007-01-01\n",
       "6658    267550       448 2008-01-01"
      ]
     },
     "execution_count": 20,
     "metadata": {},
     "output_type": "execute_result"
    }
   ],
   "source": [
    "market_bang = market_bang.drop([\"market\",\"month\",\"year\",\"priceMin\",\"priceMax\",\"state\",\"city\"], axis=1)\n",
    "market_bang.head()"
   ]
  },
  {
   "cell_type": "code",
   "execution_count": 21,
   "id": "120df423",
   "metadata": {},
   "outputs": [
    {
     "data": {
      "image/png": "[encoded data removed]",
      "text/plain": [
       "<Figure size 432x288 with 1 Axes>"
      ]
     },
     "metadata": {
      "needs_background": "light"
     },
     "output_type": "display_data"
    }
   ],
   "source": [
    "market_bang.priceMod.plot()\n",
    "plt.show()"
   ]
  },
  {
   "cell_type": "code",
   "execution_count": 22,
   "id": "f8e11a74",
   "metadata": {},
   "outputs": [
    {
     "data": {
      "image/png": "[encoded data removed]",
      "text/plain": [
       "<Figure size 432x288 with 1 Axes>"
      ]
     },
     "metadata": {
      "needs_background": "light"
     },
     "output_type": "display_data"
    }
   ],
   "source": [
    "\n",
    "market_bang.quantity.plot()\n",
    "plt.show()"
   ]
  },
  {
   "cell_type": "code",
   "execution_count": 26,
   "id": "81954fdf",
   "metadata": {},
   "outputs": [],
   "source": [
    "market.index.freq = 'MS'"
   ]
  },
  {
   "cell_type": "code",
   "execution_count": 27,
   "id": "177ad39c",
   "metadata": {},
   "outputs": [],
   "source": [
    "m = 12\n",
    "alpha = 1/(2*m)"
   ]
  },
  {
   "cell_type": "code",
   "execution_count": 34,
   "id": "5e21b10a",
   "metadata": {},
   "outputs": [
    {
     "name": "stderr",
     "output_type": "stream",
     "text": [
      "C:\\Users\\LENOVO\\anaconda3\\lib\\site-packages\\statsmodels\\tsa\\base\\tsa_model.py:578: ValueWarning: An unsupported index was provided and will be ignored when e.g. forecasting.\n",
      "  warnings.warn('An unsupported index was provided and will be'\n",
      "C:\\Users\\LENOVO\\anaconda3\\lib\\site-packages\\statsmodels\\tsa\\base\\tsa_model.py:376: ValueWarning: No supported index is available. Prediction results will be given with an integer index beginning at `start`.\n",
      "  warnings.warn('No supported index is available.'\n"
     ]
    },
    {
     "data": {
      "text/plain": [
       "Text(0.5, 1.0, 'Predicted Test using Holt Winters')"
      ]
     },
     "execution_count": 34,
     "metadata": {},
     "output_type": "execute_result"
    },
    {
     "data": {
      "image/png": "[encoded data removed]",
      "text/plain": [
       "<Figure size 432x288 with 1 Axes>"
      ]
     },
     "metadata": {
      "needs_background": "light"
     },
     "output_type": "display_data"
    }
   ],
   "source": [
    "fitted_model = ExponentialSmoothing(market_bang['priceMod'],trend='mul',seasonal='mul',seasonal_periods=12).fit()\n",
    "test_predictions = fitted_model.forecast(24)\n",
    "test_predictions.plot(legend=True,label='PREDICTION')\n",
    "plt.title('Predicted Test using Holt Winters')"
   ]
  },
  {
   "cell_type": "code",
   "execution_count": 38,
   "id": "ea185966",
   "metadata": {},
   "outputs": [
    {
     "data": {
      "image/png": "[encoded data removed]",
      "text/plain": [
       "<Figure size 1280x480 with 2 Axes>"
      ]
     },
     "execution_count": 38,
     "metadata": {},
     "output_type": "execute_result"
    },
    {
     "data": {
      "image/png": "[encoded data removed]",
      "text/plain": [
       "<Figure size 1280x480 with 2 Axes>"
      ]
     },
     "metadata": {
      "needs_background": "light"
     },
     "output_type": "display_data"
    }
   ],
   "source": [
    "from statsmodels.graphics.tsaplots import plot_acf,plot_pacf\n",
    "fig, (ax1, ax2) = plt.subplots(1, 2,figsize=(16,6), dpi= 80)\n",
    "plot_acf(market.priceMod.tolist(), ax=ax1, lags=50)\n",
    "plot_pacf(market.priceMod.tolist(), ax=ax2, lags=20)"
   ]
  },
  {
   "cell_type": "code",
   "execution_count": null,
   "id": "d86ac4a0",
   "metadata": {},
   "outputs": [],
   "source": []
  }
 ],
 "metadata": {
  "kernelspec": {
   "display_name": "Python 3 (ipykernel)",
   "language": "python",
   "name": "python3"
  },
  "language_info": {
   "codemirror_mode": {
    "name": "ipython",
    "version": 3
   },
   "file_extension": ".py",
   "mimetype": "text/x-python",
   "name": "python",
   "nbconvert_exporter": "python",
   "pygments_lexer": "ipython3",
   "version": "3.9.7"
  }
 },
 "nbformat": 4,
 "nbformat_minor": 5
}
